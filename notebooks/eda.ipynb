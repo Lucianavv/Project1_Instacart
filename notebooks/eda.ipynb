{
 "cells": [
  {
   "cell_type": "code",
   "execution_count": 177,
   "id": "initial_id",
   "metadata": {
    "collapsed": true,
    "ExecuteTime": {
     "end_time": "2025-02-20T01:49:49.703512Z",
     "start_time": "2025-02-20T01:49:46.050421Z"
    }
   },
   "outputs": [
    {
     "name": "stdout",
     "output_type": "stream",
     "text": [
      "Requirement already satisfied: snowflake-sqlalchemy in /opt/anaconda3/envs/pset1/lib/python3.9/site-packages (1.7.3)\r\n",
      "Requirement already satisfied: snowflake-connector-python<4.0.0 in /opt/anaconda3/envs/pset1/lib/python3.9/site-packages (from snowflake-sqlalchemy) (3.13.2)\r\n",
      "Requirement already satisfied: sqlalchemy>=1.4.19 in /opt/anaconda3/envs/pset1/lib/python3.9/site-packages (from snowflake-sqlalchemy) (2.0.38)\r\n",
      "Requirement already satisfied: asn1crypto<2.0.0,>0.24.0 in /opt/anaconda3/envs/pset1/lib/python3.9/site-packages (from snowflake-connector-python<4.0.0->snowflake-sqlalchemy) (1.5.1)\r\n",
      "Requirement already satisfied: cffi<2.0.0,>=1.9 in /opt/anaconda3/envs/pset1/lib/python3.9/site-packages (from snowflake-connector-python<4.0.0->snowflake-sqlalchemy) (1.17.1)\r\n",
      "Requirement already satisfied: cryptography>=3.1.0 in /opt/anaconda3/envs/pset1/lib/python3.9/site-packages (from snowflake-connector-python<4.0.0->snowflake-sqlalchemy) (43.0.3)\r\n",
      "Requirement already satisfied: pyOpenSSL<25.0.0,>=22.0.0 in /opt/anaconda3/envs/pset1/lib/python3.9/site-packages (from snowflake-connector-python<4.0.0->snowflake-sqlalchemy) (24.2.1)\r\n",
      "Requirement already satisfied: pyjwt<3.0.0 in /opt/anaconda3/envs/pset1/lib/python3.9/site-packages (from snowflake-connector-python<4.0.0->snowflake-sqlalchemy) (2.10.1)\r\n",
      "Requirement already satisfied: pytz in /opt/anaconda3/envs/pset1/lib/python3.9/site-packages (from snowflake-connector-python<4.0.0->snowflake-sqlalchemy) (2024.1)\r\n",
      "Requirement already satisfied: requests<3.0.0 in /opt/anaconda3/envs/pset1/lib/python3.9/site-packages (from snowflake-connector-python<4.0.0->snowflake-sqlalchemy) (2.32.3)\r\n",
      "Requirement already satisfied: packaging in /opt/anaconda3/envs/pset1/lib/python3.9/site-packages (from snowflake-connector-python<4.0.0->snowflake-sqlalchemy) (24.2)\r\n",
      "Requirement already satisfied: charset_normalizer<4,>=2 in /opt/anaconda3/envs/pset1/lib/python3.9/site-packages (from snowflake-connector-python<4.0.0->snowflake-sqlalchemy) (3.3.2)\r\n",
      "Requirement already satisfied: idna<4,>=2.5 in /opt/anaconda3/envs/pset1/lib/python3.9/site-packages (from snowflake-connector-python<4.0.0->snowflake-sqlalchemy) (3.7)\r\n",
      "Requirement already satisfied: urllib3<2.0.0,>=1.21.1 in /opt/anaconda3/envs/pset1/lib/python3.9/site-packages (from snowflake-connector-python<4.0.0->snowflake-sqlalchemy) (1.26.19)\r\n",
      "Requirement already satisfied: certifi>=2017.4.17 in /opt/anaconda3/envs/pset1/lib/python3.9/site-packages (from snowflake-connector-python<4.0.0->snowflake-sqlalchemy) (2025.1.31)\r\n",
      "Requirement already satisfied: typing_extensions<5,>=4.3 in /opt/anaconda3/envs/pset1/lib/python3.9/site-packages (from snowflake-connector-python<4.0.0->snowflake-sqlalchemy) (4.12.2)\r\n",
      "Requirement already satisfied: filelock<4,>=3.5 in /opt/anaconda3/envs/pset1/lib/python3.9/site-packages (from snowflake-connector-python<4.0.0->snowflake-sqlalchemy) (3.13.1)\r\n",
      "Requirement already satisfied: sortedcontainers>=2.4.0 in /opt/anaconda3/envs/pset1/lib/python3.9/site-packages (from snowflake-connector-python<4.0.0->snowflake-sqlalchemy) (2.4.0)\r\n",
      "Requirement already satisfied: platformdirs<5.0.0,>=2.6.0 in /opt/anaconda3/envs/pset1/lib/python3.9/site-packages (from snowflake-connector-python<4.0.0->snowflake-sqlalchemy) (3.10.0)\r\n",
      "Requirement already satisfied: tomlkit in /opt/anaconda3/envs/pset1/lib/python3.9/site-packages (from snowflake-connector-python<4.0.0->snowflake-sqlalchemy) (0.13.2)\r\n",
      "Requirement already satisfied: greenlet!=0.4.17 in /opt/anaconda3/envs/pset1/lib/python3.9/site-packages (from sqlalchemy>=1.4.19->snowflake-sqlalchemy) (3.1.1)\r\n",
      "Requirement already satisfied: pycparser in /opt/anaconda3/envs/pset1/lib/python3.9/site-packages (from cffi<2.0.0,>=1.9->snowflake-connector-python<4.0.0->snowflake-sqlalchemy) (2.21)\r\n"
     ]
    }
   ],
   "source": [
    "!pip install snowflake-sqlalchemy"
   ]
  },
  {
   "cell_type": "code",
   "outputs": [
    {
     "name": "stdout",
     "output_type": "stream",
     "text": [
      "USER: Lucianav\n",
      "ACCOUNT: fyqjonx-ro02327\n",
      "DATABASE: INSTACART_DB\n",
      "SCHEMA: RAW\n",
      "Conexión exitosa a Snowflake!\n"
     ]
    }
   ],
   "source": [
    "import os\n",
    "from sqlalchemy import create_engine, text\n",
    "import pandas as pd\n",
    "from dotenv import load_dotenv\n",
    "\n",
    "load_dotenv() \n",
    "\n",
    "# Obtener credenciales desde variables de entorno\n",
    "USER = os.getenv(\"SNOWFLAKE_USER\")\n",
    "PASSWORD = os.getenv(\"SNOWFLAKE_PASSWORD\")\n",
    "ACCOUNT = os.getenv(\"SNOWFLAKE_ACCOUNT\")\n",
    "DATABASE = os.getenv(\"SNOWFLAKE_DATABASE\")\n",
    "SCHEMA = os.getenv(\"SNOWFLAKE_SCHEMA\")\n",
    "WAREHOUSE = os.getenv(\"SNOWFLAKE_WAREHOUSE\")\n",
    "\n",
    "print(f\"USER: {USER}\")\n",
    "print(f\"ACCOUNT: {ACCOUNT}\")\n",
    "print(f\"DATABASE: {DATABASE}\")\n",
    "print(f\"SCHEMA: {SCHEMA}\")\n",
    "\n",
    "\n",
    "# Crear la conexión usando SQLAlchemy\n",
    "engine = create_engine(\n",
    "    f\"snowflake://{USER}:{PASSWORD}@{ACCOUNT}/{DATABASE}/{SCHEMA}?warehouse={WAREHOUSE}\"\n",
    ")\n",
    "\n",
    "# Verificar conexión\n",
    "try:\n",
    "    with engine.connect() as conn:\n",
    "        print(\"Conexión exitosa a Snowflake!\")\n",
    "except Exception as e:\n",
    "    print(f\"Error de conexión: {e}\")\n"
   ],
   "metadata": {
    "collapsed": false,
    "ExecuteTime": {
     "end_time": "2025-02-20T01:49:53.697134Z",
     "start_time": "2025-02-20T01:49:49.709215Z"
    }
   },
   "id": "5302fef797e7d9d7",
   "execution_count": 178
  },
  {
   "cell_type": "code",
   "outputs": [
    {
     "name": "stdout",
     "output_type": "stream",
     "text": [
      "Tablas encontradas: ['AISLES', 'DEPARTMENTS', 'INSTACART_ORDERS', 'ORDER_PRODUCTS', 'PRODUCTS']\n"
     ]
    }
   ],
   "source": [
    "# Obtener las tablas del schema con query\n",
    "query_tablas = \"SHOW TABLES\"\n",
    "df_tablas = pd.read_sql(query_tablas, engine)\n",
    "\n",
    "table_names = df_tablas[\"name\"].tolist()\n",
    "print(\"Tablas encontradas:\", table_names)\n"
   ],
   "metadata": {
    "collapsed": false,
    "ExecuteTime": {
     "end_time": "2025-02-20T01:49:54.928080Z",
     "start_time": "2025-02-20T01:49:53.704733Z"
    }
   },
   "id": "4db0fe9fa8d2b02a",
   "execution_count": 179
  },
  {
   "cell_type": "code",
   "outputs": [
    {
     "name": "stdout",
     "output_type": "stream",
     "text": [
      "Tabla AISLES cargada con 134 filas.\n",
      "Tabla DEPARTMENTS cargada con 21 filas.\n",
      "Tabla INSTACART_ORDERS cargada con 478967 filas.\n",
      "Tabla ORDER_PRODUCTS cargada con 4545007 filas.\n",
      "Tabla PRODUCTS cargada con 49694 filas.\n"
     ]
    }
   ],
   "source": [
    "# Extraer datos y crear tablas en dataframes\n",
    "\n",
    "dataframes = {}  \n",
    "\n",
    "for table in table_names:\n",
    "    query = f\"SELECT * FROM {DATABASE}.{SCHEMA}.{table}\"\n",
    "    df = pd.read_sql(query, engine)\n",
    "    dataframes[table] = df\n",
    "    print(f\"Tabla {table} cargada con {len(df)} filas.\")\n"
   ],
   "metadata": {
    "collapsed": false,
    "ExecuteTime": {
     "end_time": "2025-02-20T01:53:21.325126Z",
     "start_time": "2025-02-20T01:49:54.938370Z"
    }
   },
   "id": "3f7b0e6748baf6ab",
   "execution_count": 180
  },
  {
   "cell_type": "code",
   "outputs": [
    {
     "name": "stdout",
     "output_type": "stream",
     "text": [
      "dict_keys(['AISLES', 'DEPARTMENTS', 'INSTACART_ORDERS', 'ORDER_PRODUCTS', 'PRODUCTS'])\n"
     ]
    }
   ],
   "source": [
    "print(dataframes.keys())"
   ],
   "metadata": {
    "collapsed": false,
    "ExecuteTime": {
     "end_time": "2025-02-20T01:53:21.331478Z",
     "start_time": "2025-02-20T01:53:21.326844Z"
    }
   },
   "id": "e1770295d46970bf",
   "execution_count": 181
  },
  {
   "cell_type": "markdown",
   "source": [
    "AISLES"
   ],
   "metadata": {
    "collapsed": false
   },
   "id": "7cf281e2a580e274"
  },
  {
   "cell_type": "code",
   "outputs": [
    {
     "data": {
      "text/plain": "     aisle_id                       aisle\n0           1       prepared soups salads\n1           2           specialty cheeses\n2           3         energy granola bars\n3           4               instant foods\n4           5  marinades meat preparation\n..        ...                         ...\n129       130    hot cereal pancake mixes\n130       131                   dry pasta\n131       132                      beauty\n132       133  muscles joints pain relief\n133       134  specialty wines champagnes\n\n[134 rows x 2 columns]",
      "text/html": "<div>\n<style scoped>\n    .dataframe tbody tr th:only-of-type {\n        vertical-align: middle;\n    }\n\n    .dataframe tbody tr th {\n        vertical-align: top;\n    }\n\n    .dataframe thead th {\n        text-align: right;\n    }\n</style>\n<table border=\"1\" class=\"dataframe\">\n  <thead>\n    <tr style=\"text-align: right;\">\n      <th></th>\n      <th>aisle_id</th>\n      <th>aisle</th>\n    </tr>\n  </thead>\n  <tbody>\n    <tr>\n      <th>0</th>\n      <td>1</td>\n      <td>prepared soups salads</td>\n    </tr>\n    <tr>\n      <th>1</th>\n      <td>2</td>\n      <td>specialty cheeses</td>\n    </tr>\n    <tr>\n      <th>2</th>\n      <td>3</td>\n      <td>energy granola bars</td>\n    </tr>\n    <tr>\n      <th>3</th>\n      <td>4</td>\n      <td>instant foods</td>\n    </tr>\n    <tr>\n      <th>4</th>\n      <td>5</td>\n      <td>marinades meat preparation</td>\n    </tr>\n    <tr>\n      <th>...</th>\n      <td>...</td>\n      <td>...</td>\n    </tr>\n    <tr>\n      <th>129</th>\n      <td>130</td>\n      <td>hot cereal pancake mixes</td>\n    </tr>\n    <tr>\n      <th>130</th>\n      <td>131</td>\n      <td>dry pasta</td>\n    </tr>\n    <tr>\n      <th>131</th>\n      <td>132</td>\n      <td>beauty</td>\n    </tr>\n    <tr>\n      <th>132</th>\n      <td>133</td>\n      <td>muscles joints pain relief</td>\n    </tr>\n    <tr>\n      <th>133</th>\n      <td>134</td>\n      <td>specialty wines champagnes</td>\n    </tr>\n  </tbody>\n</table>\n<p>134 rows × 2 columns</p>\n</div>"
     },
     "execution_count": 182,
     "metadata": {},
     "output_type": "execute_result"
    }
   ],
   "source": [
    "aisles_df = dataframes[\"AISLES\"] \n",
    "aisles_df"
   ],
   "metadata": {
    "collapsed": false,
    "ExecuteTime": {
     "end_time": "2025-02-20T01:53:21.343081Z",
     "start_time": "2025-02-20T01:53:21.333931Z"
    }
   },
   "id": "9952083f94b115c1",
   "execution_count": 182
  },
  {
   "cell_type": "code",
   "outputs": [
    {
     "name": "stdout",
     "output_type": "stream",
     "text": [
      "Columnas: Index(['aisle_id', 'aisle'], dtype='object')\n",
      "Filas: 134\n"
     ]
    }
   ],
   "source": [
    "col = aisles_df.columns\n",
    "rows = aisles_df.shape[0]\n",
    "print(f\"Columnas: {col}\")\n",
    "print(f\"Filas: {rows}\")"
   ],
   "metadata": {
    "collapsed": false,
    "ExecuteTime": {
     "end_time": "2025-02-20T01:53:21.351581Z",
     "start_time": "2025-02-20T01:53:21.345303Z"
    }
   },
   "id": "ac30e2f56c9d30c8",
   "execution_count": 183
  },
  {
   "cell_type": "code",
   "outputs": [
    {
     "name": "stdout",
     "output_type": "stream",
     "text": [
      "          aisle_id                  aisle\n",
      "count   134.000000                    134\n",
      "unique         NaN                    134\n",
      "top            NaN  prepared soups salads\n",
      "freq           NaN                      1\n",
      "mean     67.500000                    NaN\n",
      "std      38.826537                    NaN\n",
      "min       1.000000                    NaN\n",
      "25%      34.250000                    NaN\n",
      "50%      67.500000                    NaN\n",
      "75%     100.750000                    NaN\n",
      "max     134.000000                    NaN\n"
     ]
    }
   ],
   "source": [
    "# Estadisticas descriptivas\n",
    "stats = aisles_df.describe(include='all')\n",
    "print(stats)"
   ],
   "metadata": {
    "collapsed": false,
    "ExecuteTime": {
     "end_time": "2025-02-20T01:53:21.370455Z",
     "start_time": "2025-02-20T01:53:21.354642Z"
    }
   },
   "id": "1fde527b6872a97f",
   "execution_count": 184
  },
  {
   "cell_type": "code",
   "outputs": [
    {
     "name": "stdout",
     "output_type": "stream",
     "text": [
      "aisle_id    134\n",
      "aisle       134\n",
      "dtype: int64\n"
     ]
    }
   ],
   "source": [
    "# valores unicos\n",
    "unique_values = aisles_df.nunique()\n",
    "print(unique_values)"
   ],
   "metadata": {
    "collapsed": false,
    "ExecuteTime": {
     "end_time": "2025-02-20T01:53:21.378372Z",
     "start_time": "2025-02-20T01:53:21.372242Z"
    }
   },
   "id": "176855eb7c2a3076",
   "execution_count": 185
  },
  {
   "cell_type": "code",
   "outputs": [
    {
     "name": "stdout",
     "output_type": "stream",
     "text": [
      "Total valores faltantes: 0\n",
      "Total duplicados: 0\n"
     ]
    }
   ],
   "source": [
    "# Analisis de calidad de datos\n",
    "missing_values = aisles_df.isnull().sum()\n",
    "# verificar duplicados\n",
    "duplicates = aisles_df.duplicated().sum()\n",
    "print(f\"Total valores faltantes: {missing_values.sum()}\")\n",
    "print(f\"Total duplicados: {duplicates}\")"
   ],
   "metadata": {
    "collapsed": false,
    "ExecuteTime": {
     "end_time": "2025-02-20T01:53:21.392469Z",
     "start_time": "2025-02-20T01:53:21.383372Z"
    }
   },
   "id": "c733f3c4d53cb62a",
   "execution_count": 186
  },
  {
   "cell_type": "markdown",
   "source": [
    "DEPARTMENTS"
   ],
   "metadata": {
    "collapsed": false
   },
   "id": "8a23deee482279bc"
  },
  {
   "cell_type": "code",
   "outputs": [
    {
     "data": {
      "text/plain": "    department_id       department\n0               1           frozen\n1               2            other\n2               3           bakery\n3               4          produce\n4               5          alcohol\n5               6    international\n6               7        beverages\n7               8             pets\n8               9  dry goods pasta\n9              10             bulk\n10             11    personal care\n11             12     meat seafood\n12             13           pantry\n13             14        breakfast\n14             15     canned goods\n15             16       dairy eggs\n16             17        household\n17             18           babies\n18             19           snacks\n19             20             deli\n20             21          missing",
      "text/html": "<div>\n<style scoped>\n    .dataframe tbody tr th:only-of-type {\n        vertical-align: middle;\n    }\n\n    .dataframe tbody tr th {\n        vertical-align: top;\n    }\n\n    .dataframe thead th {\n        text-align: right;\n    }\n</style>\n<table border=\"1\" class=\"dataframe\">\n  <thead>\n    <tr style=\"text-align: right;\">\n      <th></th>\n      <th>department_id</th>\n      <th>department</th>\n    </tr>\n  </thead>\n  <tbody>\n    <tr>\n      <th>0</th>\n      <td>1</td>\n      <td>frozen</td>\n    </tr>\n    <tr>\n      <th>1</th>\n      <td>2</td>\n      <td>other</td>\n    </tr>\n    <tr>\n      <th>2</th>\n      <td>3</td>\n      <td>bakery</td>\n    </tr>\n    <tr>\n      <th>3</th>\n      <td>4</td>\n      <td>produce</td>\n    </tr>\n    <tr>\n      <th>4</th>\n      <td>5</td>\n      <td>alcohol</td>\n    </tr>\n    <tr>\n      <th>5</th>\n      <td>6</td>\n      <td>international</td>\n    </tr>\n    <tr>\n      <th>6</th>\n      <td>7</td>\n      <td>beverages</td>\n    </tr>\n    <tr>\n      <th>7</th>\n      <td>8</td>\n      <td>pets</td>\n    </tr>\n    <tr>\n      <th>8</th>\n      <td>9</td>\n      <td>dry goods pasta</td>\n    </tr>\n    <tr>\n      <th>9</th>\n      <td>10</td>\n      <td>bulk</td>\n    </tr>\n    <tr>\n      <th>10</th>\n      <td>11</td>\n      <td>personal care</td>\n    </tr>\n    <tr>\n      <th>11</th>\n      <td>12</td>\n      <td>meat seafood</td>\n    </tr>\n    <tr>\n      <th>12</th>\n      <td>13</td>\n      <td>pantry</td>\n    </tr>\n    <tr>\n      <th>13</th>\n      <td>14</td>\n      <td>breakfast</td>\n    </tr>\n    <tr>\n      <th>14</th>\n      <td>15</td>\n      <td>canned goods</td>\n    </tr>\n    <tr>\n      <th>15</th>\n      <td>16</td>\n      <td>dairy eggs</td>\n    </tr>\n    <tr>\n      <th>16</th>\n      <td>17</td>\n      <td>household</td>\n    </tr>\n    <tr>\n      <th>17</th>\n      <td>18</td>\n      <td>babies</td>\n    </tr>\n    <tr>\n      <th>18</th>\n      <td>19</td>\n      <td>snacks</td>\n    </tr>\n    <tr>\n      <th>19</th>\n      <td>20</td>\n      <td>deli</td>\n    </tr>\n    <tr>\n      <th>20</th>\n      <td>21</td>\n      <td>missing</td>\n    </tr>\n  </tbody>\n</table>\n</div>"
     },
     "execution_count": 187,
     "metadata": {},
     "output_type": "execute_result"
    }
   ],
   "source": [
    "departments_df = dataframes[\"DEPARTMENTS\"] \n",
    "departments_df"
   ],
   "metadata": {
    "collapsed": false,
    "ExecuteTime": {
     "end_time": "2025-02-20T01:53:21.408376Z",
     "start_time": "2025-02-20T01:53:21.395515Z"
    }
   },
   "id": "c172be127d71d68e",
   "execution_count": 187
  },
  {
   "cell_type": "code",
   "outputs": [
    {
     "name": "stdout",
     "output_type": "stream",
     "text": [
      "Columnas: Index(['department_id', 'department'], dtype='object')\n",
      "Filas: 21\n"
     ]
    }
   ],
   "source": [
    "col = departments_df.columns\n",
    "rows = departments_df.shape[0]\n",
    "print(f\"Columnas: {col}\")\n",
    "print(f\"Filas: {rows}\")"
   ],
   "metadata": {
    "collapsed": false,
    "ExecuteTime": {
     "end_time": "2025-02-20T01:53:21.415374Z",
     "start_time": "2025-02-20T01:53:21.410560Z"
    }
   },
   "id": "22e6007ccb9e73ce",
   "execution_count": 188
  },
  {
   "cell_type": "code",
   "outputs": [
    {
     "name": "stdout",
     "output_type": "stream",
     "text": [
      "        department_id department\n",
      "count       21.000000         21\n",
      "unique            NaN         21\n",
      "top               NaN     frozen\n",
      "freq              NaN          1\n",
      "mean        11.000000        NaN\n",
      "std          6.204837        NaN\n",
      "min          1.000000        NaN\n",
      "25%          6.000000        NaN\n",
      "50%         11.000000        NaN\n",
      "75%         16.000000        NaN\n",
      "max         21.000000        NaN\n"
     ]
    }
   ],
   "source": [
    "# Estadisticas descriptivas\n",
    "stats = departments_df.describe(include='all')\n",
    "print(stats)"
   ],
   "metadata": {
    "collapsed": false,
    "ExecuteTime": {
     "end_time": "2025-02-20T01:53:21.429491Z",
     "start_time": "2025-02-20T01:53:21.420576Z"
    }
   },
   "id": "f7611dfcd5e40f2d",
   "execution_count": 189
  },
  {
   "cell_type": "code",
   "outputs": [
    {
     "name": "stdout",
     "output_type": "stream",
     "text": [
      "department_id    21\n",
      "department       21\n",
      "dtype: int64\n"
     ]
    }
   ],
   "source": [
    "# valores unicos\n",
    "unique_values = departments_df.nunique()\n",
    "print(unique_values)"
   ],
   "metadata": {
    "collapsed": false,
    "ExecuteTime": {
     "end_time": "2025-02-20T01:53:21.436528Z",
     "start_time": "2025-02-20T01:53:21.431082Z"
    }
   },
   "id": "86953af9e9aa18d9",
   "execution_count": 190
  },
  {
   "cell_type": "code",
   "outputs": [
    {
     "name": "stdout",
     "output_type": "stream",
     "text": [
      "Total valores faltantes: 0\n",
      "Total duplicados: 0\n"
     ]
    }
   ],
   "source": [
    "# Analisis de calidad de datos\n",
    "missing_values = departments_df.isnull().sum()\n",
    "# verificar duplicados\n",
    "duplicates = departments_df.duplicated().sum()\n",
    "print(f\"Total valores faltantes: {missing_values.sum()}\")\n",
    "print(f\"Total duplicados: {duplicates}\")"
   ],
   "metadata": {
    "collapsed": false,
    "ExecuteTime": {
     "end_time": "2025-02-20T01:53:21.445240Z",
     "start_time": "2025-02-20T01:53:21.438680Z"
    }
   },
   "id": "5eaf824e4f89afe6",
   "execution_count": 191
  },
  {
   "cell_type": "markdown",
   "source": [
    "INSTACART_ORDERS"
   ],
   "metadata": {
    "collapsed": false
   },
   "id": "96ca6fddb5afaca2"
  },
  {
   "cell_type": "code",
   "outputs": [
    {
     "data": {
      "text/plain": "        order_id  user_id  order_number  order_dow  order_hour_of_day  \\\n0        2788788   188386            18          6                 10   \n1         665595   124269            54          0                 10   \n2         160129    12655             4          4                 15   \n3        2992628   201211             1          6                 10   \n4        3360760    59786            17          2                 17   \n...          ...      ...           ...        ...                ...   \n478962   1397791   133217            32          5                 10   \n478963   1068973    78030            14          0                 14   \n478964   2852788    34333             3          1                 16   \n478965    634245   147019             3          2                 12   \n478966   1520727   191308            13          0                 11   \n\n        days_since_prior_order  \n0                          3.0  \n1                         19.0  \n2                         29.0  \n3                          NaN  \n4                          0.0  \n...                        ...  \n478962                     4.0  \n478963                    14.0  \n478964                    30.0  \n478965                    30.0  \n478966                    16.0  \n\n[478967 rows x 6 columns]",
      "text/html": "<div>\n<style scoped>\n    .dataframe tbody tr th:only-of-type {\n        vertical-align: middle;\n    }\n\n    .dataframe tbody tr th {\n        vertical-align: top;\n    }\n\n    .dataframe thead th {\n        text-align: right;\n    }\n</style>\n<table border=\"1\" class=\"dataframe\">\n  <thead>\n    <tr style=\"text-align: right;\">\n      <th></th>\n      <th>order_id</th>\n      <th>user_id</th>\n      <th>order_number</th>\n      <th>order_dow</th>\n      <th>order_hour_of_day</th>\n      <th>days_since_prior_order</th>\n    </tr>\n  </thead>\n  <tbody>\n    <tr>\n      <th>0</th>\n      <td>2788788</td>\n      <td>188386</td>\n      <td>18</td>\n      <td>6</td>\n      <td>10</td>\n      <td>3.0</td>\n    </tr>\n    <tr>\n      <th>1</th>\n      <td>665595</td>\n      <td>124269</td>\n      <td>54</td>\n      <td>0</td>\n      <td>10</td>\n      <td>19.0</td>\n    </tr>\n    <tr>\n      <th>2</th>\n      <td>160129</td>\n      <td>12655</td>\n      <td>4</td>\n      <td>4</td>\n      <td>15</td>\n      <td>29.0</td>\n    </tr>\n    <tr>\n      <th>3</th>\n      <td>2992628</td>\n      <td>201211</td>\n      <td>1</td>\n      <td>6</td>\n      <td>10</td>\n      <td>NaN</td>\n    </tr>\n    <tr>\n      <th>4</th>\n      <td>3360760</td>\n      <td>59786</td>\n      <td>17</td>\n      <td>2</td>\n      <td>17</td>\n      <td>0.0</td>\n    </tr>\n    <tr>\n      <th>...</th>\n      <td>...</td>\n      <td>...</td>\n      <td>...</td>\n      <td>...</td>\n      <td>...</td>\n      <td>...</td>\n    </tr>\n    <tr>\n      <th>478962</th>\n      <td>1397791</td>\n      <td>133217</td>\n      <td>32</td>\n      <td>5</td>\n      <td>10</td>\n      <td>4.0</td>\n    </tr>\n    <tr>\n      <th>478963</th>\n      <td>1068973</td>\n      <td>78030</td>\n      <td>14</td>\n      <td>0</td>\n      <td>14</td>\n      <td>14.0</td>\n    </tr>\n    <tr>\n      <th>478964</th>\n      <td>2852788</td>\n      <td>34333</td>\n      <td>3</td>\n      <td>1</td>\n      <td>16</td>\n      <td>30.0</td>\n    </tr>\n    <tr>\n      <th>478965</th>\n      <td>634245</td>\n      <td>147019</td>\n      <td>3</td>\n      <td>2</td>\n      <td>12</td>\n      <td>30.0</td>\n    </tr>\n    <tr>\n      <th>478966</th>\n      <td>1520727</td>\n      <td>191308</td>\n      <td>13</td>\n      <td>0</td>\n      <td>11</td>\n      <td>16.0</td>\n    </tr>\n  </tbody>\n</table>\n<p>478967 rows × 6 columns</p>\n</div>"
     },
     "execution_count": 192,
     "metadata": {},
     "output_type": "execute_result"
    }
   ],
   "source": [
    "instacart_orders_df = dataframes[\"INSTACART_ORDERS\"]\n",
    "instacart_orders_df"
   ],
   "metadata": {
    "collapsed": false,
    "ExecuteTime": {
     "end_time": "2025-02-20T01:53:21.463776Z",
     "start_time": "2025-02-20T01:53:21.449009Z"
    }
   },
   "id": "dda1729d410e6d87",
   "execution_count": 192
  },
  {
   "cell_type": "code",
   "outputs": [
    {
     "name": "stdout",
     "output_type": "stream",
     "text": [
      "Columnas: Index(['order_id', 'user_id', 'order_number', 'order_dow', 'order_hour_of_day',\n",
      "       'days_since_prior_order'],\n",
      "      dtype='object')\n",
      "Filas: 478967\n",
      "           order_id        user_id   order_number      order_dow  \\\n",
      "count  4.789670e+05  478967.000000  478967.000000  478967.000000   \n",
      "mean   1.709947e+06  102966.537475      17.157808       2.775058   \n",
      "std    9.869480e+05   59525.328991      17.704688       2.045869   \n",
      "min    4.000000e+00       2.000000       1.000000       0.000000   \n",
      "25%    8.564685e+05   51414.000000       5.000000       1.000000   \n",
      "50%    1.709522e+06  102633.000000      11.000000       3.000000   \n",
      "75%    2.562990e+06  154419.000000      23.000000       5.000000   \n",
      "max    3.421079e+06  206209.000000     100.000000       6.000000   \n",
      "\n",
      "       order_hour_of_day  days_since_prior_order  \n",
      "count      478967.000000           450148.000000  \n",
      "mean           13.446676               11.101751  \n",
      "std             4.224986                9.189975  \n",
      "min             0.000000                0.000000  \n",
      "25%            10.000000                4.000000  \n",
      "50%            13.000000                7.000000  \n",
      "75%            16.000000               15.000000  \n",
      "max            23.000000               30.000000  \n",
      "order_id                  478952\n",
      "user_id                   157437\n",
      "order_number                 100\n",
      "order_dow                      7\n",
      "order_hour_of_day             24\n",
      "days_since_prior_order        31\n",
      "dtype: int64\n",
      "Total valores faltantes: 28819\n",
      "Total duplicados: 15\n"
     ]
    }
   ],
   "source": [
    "col = instacart_orders_df.columns\n",
    "rows = instacart_orders_df.shape[0]\n",
    "print(f\"Columnas: {col}\")\n",
    "print(f\"Filas: {rows}\")\n",
    "# Estadisticas descriptivas\n",
    "stats = instacart_orders_df.describe(include='all')\n",
    "print(stats)\n",
    "# valores unicos\n",
    "unique_values = instacart_orders_df.nunique()\n",
    "print(unique_values)\n",
    "# Analisis de calidad de datos\n",
    "missing_values = instacart_orders_df.isnull().sum()\n",
    "# verificar duplicados\n",
    "duplicates = instacart_orders_df.duplicated().sum()\n",
    "print(f\"Total valores faltantes: {missing_values.sum()}\")\n",
    "print(f\"Total duplicados: {duplicates}\")"
   ],
   "metadata": {
    "collapsed": false,
    "ExecuteTime": {
     "end_time": "2025-02-20T01:53:21.748459Z",
     "start_time": "2025-02-20T01:53:21.465546Z"
    }
   },
   "id": "a940ab73975961eb",
   "execution_count": 193
  },
  {
   "cell_type": "code",
   "outputs": [
    {
     "data": {
      "text/plain": "order_id\n391768     2\n2232988    2\n1286742    2\n2282673    2\n1919531    2\n          ..\n1397791    1\n1068973    1\n2852788    1\n634245     1\n400106     1\nName: count, Length: 478952, dtype: int64"
     },
     "execution_count": 194,
     "metadata": {},
     "output_type": "execute_result"
    }
   ],
   "source": [
    "instacart_orders_df[\"order_id\"].value_counts()"
   ],
   "metadata": {
    "collapsed": false,
    "ExecuteTime": {
     "end_time": "2025-02-20T01:53:21.878933Z",
     "start_time": "2025-02-20T01:53:21.750514Z"
    }
   },
   "id": "632667c7403028b8",
   "execution_count": 194
  },
  {
   "cell_type": "markdown",
   "source": [
    "ORDER_PRODUCTS"
   ],
   "metadata": {
    "collapsed": false
   },
   "id": "87ff744b0f0208a3"
  },
  {
   "cell_type": "code",
   "outputs": [
    {
     "data": {
      "text/plain": "         order_id  product_id  add_to_cart_order  reordered\n0         2141543       11440               17.0          0\n1          567889        1560                1.0          1\n2         2261212       26683                1.0          1\n3          491251        8670               35.0          1\n4         2571142        1940                5.0          1\n...           ...         ...                ...        ...\n4545002   1595287       21903                6.0          1\n4545003    169741       21292                7.0          1\n4545004   3315620       35199                9.0          1\n4545005   1290233       42557                1.0          1\n4545006   2848194       39332               22.0          0\n\n[4545007 rows x 4 columns]",
      "text/html": "<div>\n<style scoped>\n    .dataframe tbody tr th:only-of-type {\n        vertical-align: middle;\n    }\n\n    .dataframe tbody tr th {\n        vertical-align: top;\n    }\n\n    .dataframe thead th {\n        text-align: right;\n    }\n</style>\n<table border=\"1\" class=\"dataframe\">\n  <thead>\n    <tr style=\"text-align: right;\">\n      <th></th>\n      <th>order_id</th>\n      <th>product_id</th>\n      <th>add_to_cart_order</th>\n      <th>reordered</th>\n    </tr>\n  </thead>\n  <tbody>\n    <tr>\n      <th>0</th>\n      <td>2141543</td>\n      <td>11440</td>\n      <td>17.0</td>\n      <td>0</td>\n    </tr>\n    <tr>\n      <th>1</th>\n      <td>567889</td>\n      <td>1560</td>\n      <td>1.0</td>\n      <td>1</td>\n    </tr>\n    <tr>\n      <th>2</th>\n      <td>2261212</td>\n      <td>26683</td>\n      <td>1.0</td>\n      <td>1</td>\n    </tr>\n    <tr>\n      <th>3</th>\n      <td>491251</td>\n      <td>8670</td>\n      <td>35.0</td>\n      <td>1</td>\n    </tr>\n    <tr>\n      <th>4</th>\n      <td>2571142</td>\n      <td>1940</td>\n      <td>5.0</td>\n      <td>1</td>\n    </tr>\n    <tr>\n      <th>...</th>\n      <td>...</td>\n      <td>...</td>\n      <td>...</td>\n      <td>...</td>\n    </tr>\n    <tr>\n      <th>4545002</th>\n      <td>1595287</td>\n      <td>21903</td>\n      <td>6.0</td>\n      <td>1</td>\n    </tr>\n    <tr>\n      <th>4545003</th>\n      <td>169741</td>\n      <td>21292</td>\n      <td>7.0</td>\n      <td>1</td>\n    </tr>\n    <tr>\n      <th>4545004</th>\n      <td>3315620</td>\n      <td>35199</td>\n      <td>9.0</td>\n      <td>1</td>\n    </tr>\n    <tr>\n      <th>4545005</th>\n      <td>1290233</td>\n      <td>42557</td>\n      <td>1.0</td>\n      <td>1</td>\n    </tr>\n    <tr>\n      <th>4545006</th>\n      <td>2848194</td>\n      <td>39332</td>\n      <td>22.0</td>\n      <td>0</td>\n    </tr>\n  </tbody>\n</table>\n<p>4545007 rows × 4 columns</p>\n</div>"
     },
     "execution_count": 195,
     "metadata": {},
     "output_type": "execute_result"
    }
   ],
   "source": [
    "order_products_df = dataframes[\"ORDER_PRODUCTS\"]\n",
    "order_products_df"
   ],
   "metadata": {
    "collapsed": false,
    "ExecuteTime": {
     "end_time": "2025-02-20T01:53:21.891260Z",
     "start_time": "2025-02-20T01:53:21.880740Z"
    }
   },
   "id": "93c3b637276a7b5d",
   "execution_count": 195
  },
  {
   "cell_type": "code",
   "outputs": [
    {
     "name": "stdout",
     "output_type": "stream",
     "text": [
      "Columnas: Index(['order_id', 'product_id', 'add_to_cart_order', 'reordered'], dtype='object')\n",
      "Filas: 4545007\n",
      "           order_id    product_id  add_to_cart_order     reordered\n",
      "count  4.545007e+06  4.545007e+06       4.544171e+06  4.545007e+06\n",
      "mean   1.711166e+06  2.558084e+04       8.351669e+00  5.905025e-01\n",
      "std    9.850955e+05  1.409552e+04       7.080368e+00  4.917411e-01\n",
      "min    4.000000e+00  1.000000e+00       1.000000e+00  0.000000e+00\n",
      "25%    8.608170e+05  1.353500e+04       3.000000e+00  0.000000e+00\n",
      "50%    1.711530e+06  2.527200e+04       6.000000e+00  1.000000e+00\n",
      "75%    2.561311e+06  3.793500e+04       1.100000e+01  1.000000e+00\n",
      "max    3.421079e+06  4.969400e+04       6.400000e+01  1.000000e+00\n",
      "order_id             450046\n",
      "product_id            45573\n",
      "add_to_cart_order        64\n",
      "reordered                 2\n",
      "dtype: int64\n",
      "Total valores faltantes: 836\n",
      "Total duplicados: 0\n"
     ]
    }
   ],
   "source": [
    "col = order_products_df.columns\n",
    "rows = order_products_df.shape[0]\n",
    "print(f\"Columnas: {col}\")\n",
    "print(f\"Filas: {rows}\")\n",
    "# Estadisticas descriptivas\n",
    "stats = order_products_df.describe(include='all')\n",
    "print(stats)\n",
    "# valores unicos\n",
    "unique_values = order_products_df.nunique()\n",
    "print(unique_values)\n",
    "# Analisis de calidad de datos\n",
    "missing_values = order_products_df.isnull().sum()\n",
    "# verificar duplicados\n",
    "duplicates = order_products_df.duplicated().sum()\n",
    "print(f\"Total valores faltantes: {missing_values.sum()}\")\n",
    "print(f\"Total duplicados: {duplicates}\")"
   ],
   "metadata": {
    "collapsed": false,
    "ExecuteTime": {
     "end_time": "2025-02-20T01:53:23.913061Z",
     "start_time": "2025-02-20T01:53:21.893112Z"
    }
   },
   "id": "841002e5893a8618",
   "execution_count": 196
  },
  {
   "cell_type": "code",
   "outputs": [
    {
     "data": {
      "text/plain": "order_id\n61355      127\n3308010    115\n2136777    108\n171934     104\n1959075     98\n          ... \n2824933      1\n1844226      1\n3254310      1\n2396177      1\n3039787      1\nName: count, Length: 450046, dtype: int64"
     },
     "execution_count": 197,
     "metadata": {},
     "output_type": "execute_result"
    }
   ],
   "source": [
    "order_products_df[\"order_id\"].value_counts()"
   ],
   "metadata": {
    "collapsed": false,
    "ExecuteTime": {
     "end_time": "2025-02-20T01:53:24.234813Z",
     "start_time": "2025-02-20T01:53:23.914948Z"
    }
   },
   "id": "75b73301779c34e1",
   "execution_count": 197
  },
  {
   "cell_type": "code",
   "outputs": [
    {
     "data": {
      "text/plain": "order_id               0\nproduct_id             0\nadd_to_cart_order    836\nreordered              0\ndtype: int64"
     },
     "execution_count": 198,
     "metadata": {},
     "output_type": "execute_result"
    }
   ],
   "source": [
    "# verificar valores nulos\n",
    "order_products_df.isnull().sum()"
   ],
   "metadata": {
    "collapsed": false,
    "ExecuteTime": {
     "end_time": "2025-02-20T01:53:24.266978Z",
     "start_time": "2025-02-20T01:53:24.236557Z"
    }
   },
   "id": "1426b7a0d275c720",
   "execution_count": 198
  },
  {
   "cell_type": "code",
   "outputs": [
    {
     "data": {
      "text/plain": "add_to_cart_order\n1.0     450046\n2.0     428199\n3.0     401907\n4.0     372861\n5.0     341807\n         ...  \n60.0       127\n61.0       114\n62.0        98\n63.0        87\n64.0        75\nName: count, Length: 64, dtype: int64"
     },
     "execution_count": 199,
     "metadata": {},
     "output_type": "execute_result"
    }
   ],
   "source": [
    "order_products_df[\"add_to_cart_order\"].value_counts()"
   ],
   "metadata": {
    "collapsed": false,
    "ExecuteTime": {
     "end_time": "2025-02-20T01:53:24.324713Z",
     "start_time": "2025-02-20T01:53:24.268753Z"
    }
   },
   "id": "f4332c3153a3603b",
   "execution_count": 199
  },
  {
   "cell_type": "markdown",
   "source": [
    "PRODUCTS"
   ],
   "metadata": {
    "collapsed": false
   },
   "id": "7c228a617c8966e7"
  },
  {
   "cell_type": "code",
   "outputs": [
    {
     "data": {
      "text/plain": "       product_id                                       product_name  \\\n0               1                         Chocolate Sandwich Cookies   \n1               2                                   All-Seasons Salt   \n2               3               Robust Golden Unsweetened Oolong Tea   \n3               4  Smart Ones Classic Favorites Mini Rigatoni Wit...   \n4               5                          Green Chile Anytime Sauce   \n...           ...                                                ...   \n49689       49690                      HIGH PERFORMANCE ENERGY DRINK   \n49690       49691                      ORIGINAL PANCAKE & WAFFLE MIX   \n49691       49692    ORGANIC INSTANT OATMEAL LIGHT MAPLE BROWN SUGAR   \n49692       49693                             SPRING WATER BODY WASH   \n49693       49694                            BURRITO- STEAK & CHEESE   \n\n       aisle_id  department_id  \n0            61             19  \n1           104             13  \n2            94              7  \n3            38              1  \n4             5             13  \n...         ...            ...  \n49689        64              7  \n49690       130             14  \n49691       130             14  \n49692       127             11  \n49693        38              1  \n\n[49694 rows x 4 columns]",
      "text/html": "<div>\n<style scoped>\n    .dataframe tbody tr th:only-of-type {\n        vertical-align: middle;\n    }\n\n    .dataframe tbody tr th {\n        vertical-align: top;\n    }\n\n    .dataframe thead th {\n        text-align: right;\n    }\n</style>\n<table border=\"1\" class=\"dataframe\">\n  <thead>\n    <tr style=\"text-align: right;\">\n      <th></th>\n      <th>product_id</th>\n      <th>product_name</th>\n      <th>aisle_id</th>\n      <th>department_id</th>\n    </tr>\n  </thead>\n  <tbody>\n    <tr>\n      <th>0</th>\n      <td>1</td>\n      <td>Chocolate Sandwich Cookies</td>\n      <td>61</td>\n      <td>19</td>\n    </tr>\n    <tr>\n      <th>1</th>\n      <td>2</td>\n      <td>All-Seasons Salt</td>\n      <td>104</td>\n      <td>13</td>\n    </tr>\n    <tr>\n      <th>2</th>\n      <td>3</td>\n      <td>Robust Golden Unsweetened Oolong Tea</td>\n      <td>94</td>\n      <td>7</td>\n    </tr>\n    <tr>\n      <th>3</th>\n      <td>4</td>\n      <td>Smart Ones Classic Favorites Mini Rigatoni Wit...</td>\n      <td>38</td>\n      <td>1</td>\n    </tr>\n    <tr>\n      <th>4</th>\n      <td>5</td>\n      <td>Green Chile Anytime Sauce</td>\n      <td>5</td>\n      <td>13</td>\n    </tr>\n    <tr>\n      <th>...</th>\n      <td>...</td>\n      <td>...</td>\n      <td>...</td>\n      <td>...</td>\n    </tr>\n    <tr>\n      <th>49689</th>\n      <td>49690</td>\n      <td>HIGH PERFORMANCE ENERGY DRINK</td>\n      <td>64</td>\n      <td>7</td>\n    </tr>\n    <tr>\n      <th>49690</th>\n      <td>49691</td>\n      <td>ORIGINAL PANCAKE &amp; WAFFLE MIX</td>\n      <td>130</td>\n      <td>14</td>\n    </tr>\n    <tr>\n      <th>49691</th>\n      <td>49692</td>\n      <td>ORGANIC INSTANT OATMEAL LIGHT MAPLE BROWN SUGAR</td>\n      <td>130</td>\n      <td>14</td>\n    </tr>\n    <tr>\n      <th>49692</th>\n      <td>49693</td>\n      <td>SPRING WATER BODY WASH</td>\n      <td>127</td>\n      <td>11</td>\n    </tr>\n    <tr>\n      <th>49693</th>\n      <td>49694</td>\n      <td>BURRITO- STEAK &amp; CHEESE</td>\n      <td>38</td>\n      <td>1</td>\n    </tr>\n  </tbody>\n</table>\n<p>49694 rows × 4 columns</p>\n</div>"
     },
     "execution_count": 200,
     "metadata": {},
     "output_type": "execute_result"
    }
   ],
   "source": [
    "products_df = dataframes[\"PRODUCTS\"]\n",
    "products_df"
   ],
   "metadata": {
    "collapsed": false,
    "ExecuteTime": {
     "end_time": "2025-02-20T01:53:24.336014Z",
     "start_time": "2025-02-20T01:53:24.326673Z"
    }
   },
   "id": "bffbbb8acfff9a70",
   "execution_count": 200
  },
  {
   "cell_type": "code",
   "outputs": [
    {
     "name": "stdout",
     "output_type": "stream",
     "text": [
      "Columnas: Index(['product_id', 'product_name', 'aisle_id', 'department_id'], dtype='object')\n",
      "Filas: 49694\n",
      "          product_id             product_name      aisle_id  department_id\n",
      "count   49694.000000                    48436  49694.000000   49694.000000\n",
      "unique           NaN                    48436           NaN            NaN\n",
      "top              NaN  BURRITO- STEAK & CHEESE           NaN            NaN\n",
      "freq             NaN                        1           NaN            NaN\n",
      "mean    24847.500000                      NaN     67.773192      11.728478\n",
      "std     14345.566475                      NaN     38.317265       5.850314\n",
      "min         1.000000                      NaN      1.000000       1.000000\n",
      "25%     12424.250000                      NaN     35.000000       7.000000\n",
      "50%     24847.500000                      NaN     69.000000      13.000000\n",
      "75%     37270.750000                      NaN    100.000000      17.000000\n",
      "max     49694.000000                      NaN    134.000000      21.000000\n",
      "product_id       49694\n",
      "product_name     48436\n",
      "aisle_id           134\n",
      "department_id       21\n",
      "dtype: int64\n",
      "Total valores faltantes: 1258\n",
      "Total duplicados: 0\n"
     ]
    }
   ],
   "source": [
    "col = products_df.columns\n",
    "rows = products_df.shape[0]\n",
    "print(f\"Columnas: {col}\")\n",
    "print(f\"Filas: {rows}\")\n",
    "# Estadisticas descriptivas\n",
    "stats = products_df.describe(include='all')\n",
    "print(stats)\n",
    "# valores unicos\n",
    "unique_values = products_df.nunique()\n",
    "print(unique_values)\n",
    "# Analisis de calidad de datos\n",
    "missing_values = products_df.isnull().sum()\n",
    "# verificar duplicados\n",
    "duplicates = products_df.duplicated().sum()\n",
    "print(f\"Total valores faltantes: {missing_values.sum()}\")\n",
    "print(f\"Total duplicados: {duplicates}\")"
   ],
   "metadata": {
    "collapsed": false,
    "ExecuteTime": {
     "end_time": "2025-02-20T01:53:24.445370Z",
     "start_time": "2025-02-20T01:53:24.337662Z"
    }
   },
   "id": "b6ef6dcd5c9f326",
   "execution_count": 201
  },
  {
   "cell_type": "code",
   "outputs": [
    {
     "data": {
      "text/plain": "product_id          0\nproduct_name     1258\naisle_id            0\ndepartment_id       0\ndtype: int64"
     },
     "execution_count": 202,
     "metadata": {},
     "output_type": "execute_result"
    }
   ],
   "source": [
    "products_df.isnull().sum()"
   ],
   "metadata": {
    "collapsed": false,
    "ExecuteTime": {
     "end_time": "2025-02-20T01:53:24.461460Z",
     "start_time": "2025-02-20T01:53:24.447878Z"
    }
   },
   "id": "f351f17f1f2a9304",
   "execution_count": 202
  },
  {
   "cell_type": "markdown",
   "source": [
    "TRANSFORMACION"
   ],
   "metadata": {
    "collapsed": false
   },
   "id": "7eb4b6c210064441"
  },
  {
   "cell_type": "code",
   "outputs": [
    {
     "name": "stderr",
     "output_type": "stream",
     "text": [
      "/var/folders/3f/k0x4vxjx013cr_5103f5wh480000gn/T/ipykernel_19859/265501512.py:5: FutureWarning: A value is trying to be set on a copy of a DataFrame or Series through chained assignment using an inplace method.\n",
      "The behavior will change in pandas 3.0. This inplace method will never work because the intermediate object on which we are setting values always behaves as a copy.\n",
      "\n",
      "For example, when doing 'df[col].method(value, inplace=True)', try using 'df.method({col: value}, inplace=True)' or df[col] = df[col].method(value) instead, to perform the operation inplace on the original object.\n",
      "\n",
      "\n",
      "  instacart_orders_df[\"days_since_prior_order\"].fillna(days_mean, inplace=True)\n"
     ]
    },
    {
     "data": {
      "text/plain": "order_id                  0\nuser_id                   0\norder_number              0\norder_dow                 0\norder_hour_of_day         0\ndays_since_prior_order    0\ndtype: int64"
     },
     "execution_count": 203,
     "metadata": {},
     "output_type": "execute_result"
    }
   ],
   "source": [
    "# manejo de valores nulos\n",
    "\n",
    "#promedio de dias entre ordenes\n",
    "days_mean = instacart_orders_df[\"days_since_prior_order\"].mean()\n",
    "instacart_orders_df[\"days_since_prior_order\"].fillna(days_mean, inplace=True)\n",
    "instacart_orders_df.isnull().sum()"
   ],
   "metadata": {
    "collapsed": false,
    "ExecuteTime": {
     "end_time": "2025-02-20T01:53:24.485996Z",
     "start_time": "2025-02-20T01:53:24.463595Z"
    }
   },
   "id": "6f28550a9a160718",
   "execution_count": 203
  },
  {
   "cell_type": "code",
   "outputs": [
    {
     "name": "stderr",
     "output_type": "stream",
     "text": [
      "/var/folders/3f/k0x4vxjx013cr_5103f5wh480000gn/T/ipykernel_19859/1881630526.py:2: FutureWarning: A value is trying to be set on a copy of a DataFrame or Series through chained assignment using an inplace method.\n",
      "The behavior will change in pandas 3.0. This inplace method will never work because the intermediate object on which we are setting values always behaves as a copy.\n",
      "\n",
      "For example, when doing 'df[col].method(value, inplace=True)', try using 'df.method({col: value}, inplace=True)' or df[col] = df[col].method(value) instead, to perform the operation inplace on the original object.\n",
      "\n",
      "\n",
      "  order_products_df[\"add_to_cart_order\"].fillna(-1, inplace=True)\n"
     ]
    },
    {
     "data": {
      "text/plain": "order_id             0\nproduct_id           0\nadd_to_cart_order    0\nreordered            0\ndtype: int64"
     },
     "execution_count": 204,
     "metadata": {},
     "output_type": "execute_result"
    }
   ],
   "source": [
    "# llenar valores nulos de add_to_cart_order con -1\n",
    "order_products_df[\"add_to_cart_order\"].fillna(-1, inplace=True)\n",
    "order_products_df.isnull().sum()"
   ],
   "metadata": {
    "collapsed": false,
    "ExecuteTime": {
     "end_time": "2025-02-20T01:53:24.535122Z",
     "start_time": "2025-02-20T01:53:24.493325Z"
    }
   },
   "id": "592765ae02baadde",
   "execution_count": 204
  },
  {
   "cell_type": "markdown",
   "source": [
    "STAR SCHEMA"
   ],
   "metadata": {
    "collapsed": false
   },
   "id": "757aec159f493f10"
  },
  {
   "cell_type": "code",
   "outputs": [],
   "source": [
    "dim_aisles = aisles_df.copy()\n",
    "dim_products = products_df.copy()\n",
    "dim_departments = departments_df.copy()\n",
    "dim_orders = instacart_orders_df.drop_duplicates(subset=[\"order_id\"]).copy()\n",
    "dim_users = dim_orders[[\"user_id\"]].copy()\n",
    "\n",
    "\n",
    "instant = instacart_orders_df[[\"order_id\", \"user_id\",\"order_dow\", \"order_hour_of_day\", \"days_since_prior_order\"]]\n",
    "\n",
    "#merge de tablas usando order_id como key\n",
    "fact_orders = pd.merge(dim_orders, order_products_df,on=\"order_id\", how=\"left\")\n",
    "\n",
    "tablas_clean = {\"DIM_PRODUCTS\": dim_products, \"DIM_USERS\": dim_users , \"DIM_AISLES\": dim_aisles, \"DIM_DEPARTMENTS\": dim_departments, \"DIM_ORDERS\": dim_orders}"
   ],
   "metadata": {
    "collapsed": false,
    "ExecuteTime": {
     "end_time": "2025-02-20T02:35:26.931648Z",
     "start_time": "2025-02-20T02:35:23.399848Z"
    }
   },
   "id": "845db2a58b15e045",
   "execution_count": 212
  },
  {
   "cell_type": "code",
   "outputs": [
    {
     "data": {
      "text/plain": "order_id\n391768     2\n2232988    2\n1286742    2\n2282673    2\n1919531    2\n          ..\n1397791    1\n1068973    1\n2852788    1\n634245     1\n400106     1\nName: count, Length: 478952, dtype: int64"
     },
     "execution_count": 213,
     "metadata": {},
     "output_type": "execute_result"
    }
   ],
   "source": [
    "instant[\"order_id\"].value_counts()"
   ],
   "metadata": {
    "collapsed": false,
    "ExecuteTime": {
     "end_time": "2025-02-20T02:35:28.115569Z",
     "start_time": "2025-02-20T02:35:27.823162Z"
    }
   },
   "id": "baf535014b6fae57",
   "execution_count": 213
  },
  {
   "cell_type": "code",
   "outputs": [
    {
     "data": {
      "text/plain": "         order_id  user_id  order_number  order_dow  order_hour_of_day  \\\n0         2788788   188386            18          6                 10   \n1         2788788   188386            18          6                 10   \n2         2788788   188386            18          6                 10   \n3         2788788   188386            18          6                 10   \n4          665595   124269            54          0                 10   \n...           ...      ...           ...        ...                ...   \n4573908   1520727   191308            13          0                 11   \n4573909   1520727   191308            13          0                 11   \n4573910   1520727   191308            13          0                 11   \n4573911   1520727   191308            13          0                 11   \n4573912   1520727   191308            13          0                 11   \n\n         days_since_prior_order  product_id  add_to_cart_order  reordered  \n0                           3.0     23405.0                4.0        0.0  \n1                           3.0      1278.0                3.0        0.0  \n2                           3.0     38662.0                1.0        0.0  \n3                           3.0       436.0                2.0        1.0  \n4                          19.0     22935.0                6.0        1.0  \n...                         ...         ...                ...        ...  \n4573908                    16.0     14536.0               12.0        1.0  \n4573909                    16.0      4149.0               11.0        0.0  \n4573910                    16.0     26209.0                9.0        0.0  \n4573911                    16.0     38033.0               14.0        0.0  \n4573912                    16.0     34166.0               13.0        1.0  \n\n[4573913 rows x 9 columns]",
      "text/html": "<div>\n<style scoped>\n    .dataframe tbody tr th:only-of-type {\n        vertical-align: middle;\n    }\n\n    .dataframe tbody tr th {\n        vertical-align: top;\n    }\n\n    .dataframe thead th {\n        text-align: right;\n    }\n</style>\n<table border=\"1\" class=\"dataframe\">\n  <thead>\n    <tr style=\"text-align: right;\">\n      <th></th>\n      <th>order_id</th>\n      <th>user_id</th>\n      <th>order_number</th>\n      <th>order_dow</th>\n      <th>order_hour_of_day</th>\n      <th>days_since_prior_order</th>\n      <th>product_id</th>\n      <th>add_to_cart_order</th>\n      <th>reordered</th>\n    </tr>\n  </thead>\n  <tbody>\n    <tr>\n      <th>0</th>\n      <td>2788788</td>\n      <td>188386</td>\n      <td>18</td>\n      <td>6</td>\n      <td>10</td>\n      <td>3.0</td>\n      <td>23405.0</td>\n      <td>4.0</td>\n      <td>0.0</td>\n    </tr>\n    <tr>\n      <th>1</th>\n      <td>2788788</td>\n      <td>188386</td>\n      <td>18</td>\n      <td>6</td>\n      <td>10</td>\n      <td>3.0</td>\n      <td>1278.0</td>\n      <td>3.0</td>\n      <td>0.0</td>\n    </tr>\n    <tr>\n      <th>2</th>\n      <td>2788788</td>\n      <td>188386</td>\n      <td>18</td>\n      <td>6</td>\n      <td>10</td>\n      <td>3.0</td>\n      <td>38662.0</td>\n      <td>1.0</td>\n      <td>0.0</td>\n    </tr>\n    <tr>\n      <th>3</th>\n      <td>2788788</td>\n      <td>188386</td>\n      <td>18</td>\n      <td>6</td>\n      <td>10</td>\n      <td>3.0</td>\n      <td>436.0</td>\n      <td>2.0</td>\n      <td>1.0</td>\n    </tr>\n    <tr>\n      <th>4</th>\n      <td>665595</td>\n      <td>124269</td>\n      <td>54</td>\n      <td>0</td>\n      <td>10</td>\n      <td>19.0</td>\n      <td>22935.0</td>\n      <td>6.0</td>\n      <td>1.0</td>\n    </tr>\n    <tr>\n      <th>...</th>\n      <td>...</td>\n      <td>...</td>\n      <td>...</td>\n      <td>...</td>\n      <td>...</td>\n      <td>...</td>\n      <td>...</td>\n      <td>...</td>\n      <td>...</td>\n    </tr>\n    <tr>\n      <th>4573908</th>\n      <td>1520727</td>\n      <td>191308</td>\n      <td>13</td>\n      <td>0</td>\n      <td>11</td>\n      <td>16.0</td>\n      <td>14536.0</td>\n      <td>12.0</td>\n      <td>1.0</td>\n    </tr>\n    <tr>\n      <th>4573909</th>\n      <td>1520727</td>\n      <td>191308</td>\n      <td>13</td>\n      <td>0</td>\n      <td>11</td>\n      <td>16.0</td>\n      <td>4149.0</td>\n      <td>11.0</td>\n      <td>0.0</td>\n    </tr>\n    <tr>\n      <th>4573910</th>\n      <td>1520727</td>\n      <td>191308</td>\n      <td>13</td>\n      <td>0</td>\n      <td>11</td>\n      <td>16.0</td>\n      <td>26209.0</td>\n      <td>9.0</td>\n      <td>0.0</td>\n    </tr>\n    <tr>\n      <th>4573911</th>\n      <td>1520727</td>\n      <td>191308</td>\n      <td>13</td>\n      <td>0</td>\n      <td>11</td>\n      <td>16.0</td>\n      <td>38033.0</td>\n      <td>14.0</td>\n      <td>0.0</td>\n    </tr>\n    <tr>\n      <th>4573912</th>\n      <td>1520727</td>\n      <td>191308</td>\n      <td>13</td>\n      <td>0</td>\n      <td>11</td>\n      <td>16.0</td>\n      <td>34166.0</td>\n      <td>13.0</td>\n      <td>1.0</td>\n    </tr>\n  </tbody>\n</table>\n<p>4573913 rows × 9 columns</p>\n</div>"
     },
     "execution_count": 214,
     "metadata": {},
     "output_type": "execute_result"
    }
   ],
   "source": [
    "fact_orders"
   ],
   "metadata": {
    "collapsed": false,
    "ExecuteTime": {
     "end_time": "2025-02-20T02:35:29.545752Z",
     "start_time": "2025-02-20T02:35:29.507618Z"
    }
   },
   "id": "2736ea15a4d317d3",
   "execution_count": 214
  },
  {
   "cell_type": "code",
   "outputs": [
    {
     "data": {
      "text/plain": "order_id\n61355      127\n3308010    115\n2136777    108\n171934     104\n1959075     98\n          ... \n1461833      1\n1496098      1\n1468577      1\n233728       1\n666423       1\nName: count, Length: 478952, dtype: int64"
     },
     "execution_count": 215,
     "metadata": {},
     "output_type": "execute_result"
    }
   ],
   "source": [
    "fact_orders[\"order_id\"].value_counts()"
   ],
   "metadata": {
    "collapsed": false,
    "ExecuteTime": {
     "end_time": "2025-02-20T02:35:37.577598Z",
     "start_time": "2025-02-20T02:35:37.279313Z"
    }
   },
   "id": "a88bde75f424cd4e",
   "execution_count": 215
  },
  {
   "cell_type": "code",
   "outputs": [
    {
     "data": {
      "text/plain": "add_to_cart_order\n1.0     450046\n2.0     428199\n3.0     401907\n4.0     372861\n5.0     341807\n         ...  \n60.0       127\n61.0       114\n62.0        98\n63.0        87\n64.0        75\nName: count, Length: 65, dtype: int64"
     },
     "execution_count": 216,
     "metadata": {},
     "output_type": "execute_result"
    }
   ],
   "source": [
    "fact_orders[\"add_to_cart_order\"].value_counts()"
   ],
   "metadata": {
    "collapsed": false,
    "ExecuteTime": {
     "end_time": "2025-02-20T02:35:37.661934Z",
     "start_time": "2025-02-20T02:35:37.581808Z"
    }
   },
   "id": "3ac35673f5df589a",
   "execution_count": 216
  },
  {
   "cell_type": "code",
   "outputs": [
    {
     "data": {
      "text/plain": "order_id\n1520727    1\n2788788    1\n665595     1\n160129     1\n2992628    1\n          ..\n1558904    1\n3282387    1\n2523839    1\n2995593    1\n2828007    1\nName: count, Length: 478952, dtype: int64"
     },
     "execution_count": 217,
     "metadata": {},
     "output_type": "execute_result"
    }
   ],
   "source": [
    "dim_orders[\"order_id\"].value_counts()"
   ],
   "metadata": {
    "collapsed": false,
    "ExecuteTime": {
     "end_time": "2025-02-20T02:35:37.862912Z",
     "start_time": "2025-02-20T02:35:37.668815Z"
    }
   },
   "id": "f179e41546ec2485",
   "execution_count": 217
  },
  {
   "cell_type": "markdown",
   "source": [
    "CARGAR DATOS A SNOWFLAKE"
   ],
   "metadata": {
    "collapsed": false
   },
   "id": "2e6278ffc2e3fb8a"
  },
  {
   "cell_type": "code",
   "outputs": [
    {
     "name": "stdout",
     "output_type": "stream",
     "text": [
      "Conexión exitosa a Snowflake!\n",
      "Esquema 'CLEAN' creado o ya existente.\n"
     ]
    },
    {
     "name": "stderr",
     "output_type": "stream",
     "text": [
      "/var/folders/3f/k0x4vxjx013cr_5103f5wh480000gn/T/ipykernel_19859/2748351406.py:25: UserWarning: The provided table name 'DIM_PRODUCTS' is not found exactly as such in the database after writing the table, possibly due to case sensitivity issues. Consider using lower case table names.\n",
      "  df.to_sql(\n"
     ]
    },
    {
     "name": "stdout",
     "output_type": "stream",
     "text": [
      "Tabla 'DIM_PRODUCTS' cargada en lotes de 10000 filas.\n"
     ]
    },
    {
     "name": "stderr",
     "output_type": "stream",
     "text": [
      "/var/folders/3f/k0x4vxjx013cr_5103f5wh480000gn/T/ipykernel_19859/2748351406.py:25: UserWarning: The provided table name 'DIM_USERS' is not found exactly as such in the database after writing the table, possibly due to case sensitivity issues. Consider using lower case table names.\n",
      "  df.to_sql(\n"
     ]
    },
    {
     "name": "stdout",
     "output_type": "stream",
     "text": [
      "Tabla 'DIM_USERS' cargada en lotes de 10000 filas.\n"
     ]
    },
    {
     "name": "stderr",
     "output_type": "stream",
     "text": [
      "/var/folders/3f/k0x4vxjx013cr_5103f5wh480000gn/T/ipykernel_19859/2748351406.py:25: UserWarning: The provided table name 'DIM_AISLES' is not found exactly as such in the database after writing the table, possibly due to case sensitivity issues. Consider using lower case table names.\n",
      "  df.to_sql(\n"
     ]
    },
    {
     "name": "stdout",
     "output_type": "stream",
     "text": [
      "Tabla 'DIM_AISLES' cargada en lotes de 10000 filas.\n"
     ]
    },
    {
     "name": "stderr",
     "output_type": "stream",
     "text": [
      "/var/folders/3f/k0x4vxjx013cr_5103f5wh480000gn/T/ipykernel_19859/2748351406.py:25: UserWarning: The provided table name 'DIM_DEPARTMENTS' is not found exactly as such in the database after writing the table, possibly due to case sensitivity issues. Consider using lower case table names.\n",
      "  df.to_sql(\n"
     ]
    },
    {
     "name": "stdout",
     "output_type": "stream",
     "text": [
      "Tabla 'DIM_DEPARTMENTS' cargada en lotes de 10000 filas.\n"
     ]
    },
    {
     "name": "stderr",
     "output_type": "stream",
     "text": [
      "/var/folders/3f/k0x4vxjx013cr_5103f5wh480000gn/T/ipykernel_19859/2748351406.py:25: UserWarning: The provided table name 'DIM_ORDERS' is not found exactly as such in the database after writing the table, possibly due to case sensitivity issues. Consider using lower case table names.\n",
      "  df.to_sql(\n"
     ]
    },
    {
     "name": "stdout",
     "output_type": "stream",
     "text": [
      "Tabla 'DIM_ORDERS' cargada en lotes de 10000 filas.\n",
      "Carga de datos en Snowflake completada. ✅\n"
     ]
    }
   ],
   "source": [
    "from sqlalchemy import text\n",
    "# Crear la conexión con SQLAlchemy\n",
    "engine = create_engine(\n",
    "    f'snowflake://{USER}:{PASSWORD}@{ACCOUNT}/{DATABASE}/CLEAN?warehouse={WAREHOUSE}'\n",
    ")\n",
    "\n",
    "# Definir el tamaño del batch\n",
    "batch_size = 10000\n",
    "\n",
    "# Verificar conexión\n",
    "try:\n",
    "    with engine.connect() as conn:\n",
    "        print(\"Conexión exitosa a Snowflake!\")\n",
    "except Exception as e:\n",
    "    print(f\"Error de conexión: {e}\")\n",
    "    \n",
    "\n",
    "# Crear esquema CLEAN si no existe\n",
    "with engine.connect() as conn:\n",
    "    conn.execute(text(\"CREATE SCHEMA IF NOT EXISTS CLEAN;\"))\n",
    "    print(\"Esquema 'CLEAN' creado o ya existente.\")\n",
    "\n",
    "# Cargar cada DataFrame en Snowflake con chunksize\n",
    "for table_name, df in tablas_clean.items():\n",
    "    df.to_sql(\n",
    "        table_name,\n",
    "        con=engine,\n",
    "        schema=\"CLEAN\",\n",
    "        index=False,\n",
    "        if_exists=\"replace\",  # Reemplaza la tabla si ya existe\n",
    "        chunksize=batch_size,  # Carga en lotes\n",
    "    )\n",
    "    print(f\"Tabla '{table_name}' cargada en lotes de {batch_size} filas.\")\n",
    "\n",
    "print(\"Carga de datos en Snowflake completada. ✅\")"
   ],
   "metadata": {
    "collapsed": false,
    "ExecuteTime": {
     "end_time": "2025-02-20T02:39:25.009493Z",
     "start_time": "2025-02-20T02:35:41.922091Z"
    }
   },
   "id": "51c5b16e08365079",
   "execution_count": 218
  },
  {
   "cell_type": "code",
   "outputs": [],
   "source": [
    "# exportar tabla facts orders csv\n",
    "fact_orders.to_csv('fact_orders.csv', index=False)"
   ],
   "metadata": {
    "collapsed": false,
    "ExecuteTime": {
     "end_time": "2025-02-20T02:39:57.482213Z",
     "start_time": "2025-02-20T02:39:25.014926Z"
    }
   },
   "id": "b5e0e73c5a367aad",
   "execution_count": 219
  },
  {
   "cell_type": "code",
   "outputs": [],
   "source": [],
   "metadata": {
    "collapsed": false
   },
   "id": "712306bbad510cb5"
  }
 ],
 "metadata": {
  "kernelspec": {
   "display_name": "Python 3",
   "language": "python",
   "name": "python3"
  },
  "language_info": {
   "codemirror_mode": {
    "name": "ipython",
    "version": 2
   },
   "file_extension": ".py",
   "mimetype": "text/x-python",
   "name": "python",
   "nbconvert_exporter": "python",
   "pygments_lexer": "ipython2",
   "version": "2.7.6"
  }
 },
 "nbformat": 4,
 "nbformat_minor": 5
}
